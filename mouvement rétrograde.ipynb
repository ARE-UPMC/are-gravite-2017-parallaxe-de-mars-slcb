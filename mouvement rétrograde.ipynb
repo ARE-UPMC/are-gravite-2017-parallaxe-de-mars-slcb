{
 "cells": [
  {
   "cell_type": "markdown",
   "metadata": {},
   "source": []
  },
  {
   "cell_type": "markdown",
   "metadata": {},
   "source": [
    "   La Terre et Mars sont en orbite autour du Soleil. Mars est la plus éloignée de l'étoile, cependant sa vitesse orbitale est plus faible que celle de la Terre ( environ 24km/s pour Mars et 30 km/s pour notre planète). Ainsi, une année sur Mars dure deux fois plus longtemps que celle sur Terre. Donc la Terre à le temps de faire 2 périodes de révolutions pendant que Mars est toujours sur sa première. D'après ce principe, à un moment la Terre va doubler Mars, et c'est à ce moment que Mars devient rétrograde. Voici un schéma pour mieux comprendre :\n",
    "![schema](http://orbitmars.futura-sciences.com/retro.gif)\n",
    "Crédit du schéma : original SVJ HS  n°40 / réalisé par Olivier POCH",
    "\n",
    "\n",
    "L'orbite bleue représente l'orbite terrestre et la rouge, celle de Mars. Les point représente les positions de ces deux planètes à des instants donnés. \n",
    "On remarque donc, que si on place un observateur sur la Terre qui regarde directement Mars (représenté par le trait noir) alors l'image de Mars dans le ciel depend de la position relative des 2 planètes et crée une boucle dans le ciel ( trajectoire rouge). C'est le mouvement rétrograde.\n",
    "\n",
    "Ce mouvement n'est donc visible que part un observateur sur Terre et à la projection sur le ciel. Cela est du à une différence de vitesse orbitale en Mars et la Terre autour du Soleil."
   ]
  },
  {
   "cell_type": "code",
   "execution_count": null,
   "metadata": {
    "collapsed": true
   },
   "outputs": [],
   "source": []
  }
 ],
 "metadata": {
  "kernelspec": {
   "display_name": "Python 3",
   "language": "python",
   "name": "python3"
  },
  "language_info": {
   "codemirror_mode": {
    "name": "ipython",
    "version": 3
   },
   "file_extension": ".py",
   "mimetype": "text/x-python",
   "name": "python",
   "nbconvert_exporter": "python",
   "pygments_lexer": "ipython3",
   "version": "3.4.1"
  }
 },
 "nbformat": 4,
 "nbformat_minor": 0
}
